{
 "cells": [
  {
   "cell_type": "code",
   "execution_count": 8,
   "metadata": {},
   "outputs": [],
   "source": [
    "import pandas as pd\n",
    "import numpy as np\n",
    "import matplotlib.pyplot as plt\n",
    "import tensorflow as tf\n",
    "import seaborn as sns\n",
    "from tensorflow import keras\n",
    "from sklearn.model_selection import train_test_split\n",
    "from sklearn.preprocessing import StandardScaler\n",
    "from sklearn import preprocessing\n",
    "from sklearn import preprocessing \n",
    "from sklearn.mixture import GaussianMixture"
   ]
  },
  {
   "cell_type": "code",
   "execution_count": 9,
   "metadata": {},
   "outputs": [],
   "source": [
    "datos_EM = pd.read_csv('C:/Users/JCfor/Desktop/Proyecto Tesis I/DatasetFinal.csv')\n",
    "##Variable valor de traspaso\n",
    "valor = datos_EM['Valor de traspaso'].str.split('-',expand = True)\n",
    "valor.columns = ['MenorV', 'V_traspaso']\n",
    "datos_EM = pd.concat( [ datos_EM,valor.V_traspaso ] , axis= 1)\n",
    "\n",
    "##Variable Sueldo\n",
    "datos_EM['Sueldo'] = datos_EM['Sueldo'].str.extract('(\\d+)', expand=False).astype(float)\n",
    "datos_EM['Sueldo'] = datos_EM['Sueldo']*1000\n",
    "datos_EM.head()\n",
    "\n",
    "datos = datos_EM.drop( ['Inf', 'Source.Name', 'Rec', 'Nombre', 'Club', 'División', 'Posición', 'Edad', 'Sueldo', 'V_traspaso','Valor de traspaso' ], axis=1)"
   ]
  },
  {
   "cell_type": "code",
   "execution_count": 10,
   "metadata": {},
   "outputs": [],
   "source": [
    "X_EM = np.asanyarray(datos.drop(columns=['Valoracion']))"
   ]
  },
  {
   "cell_type": "code",
   "execution_count": 13,
   "metadata": {},
   "outputs": [],
   "source": [
    "#Transformar data a media 0\n",
    "scaler = preprocessing.StandardScaler()\n",
    "scaler.fit(X_EM)\n",
    "scaled_x = scaler.transform(X_EM)"
   ]
  },
  {
   "cell_type": "code",
   "execution_count": 15,
   "metadata": {},
   "outputs": [
    {
     "data": {
      "text/plain": [
       "{'covariance_type': 'full',\n",
       " 'init_params': 'kmeans',\n",
       " 'max_iter': 100,\n",
       " 'means_init': None,\n",
       " 'n_components': 4,\n",
       " 'n_init': 1,\n",
       " 'precisions_init': None,\n",
       " 'random_state': None,\n",
       " 'reg_covar': 1e-06,\n",
       " 'tol': 0.001,\n",
       " 'verbose': 0,\n",
       " 'verbose_interval': 10,\n",
       " 'warm_start': False,\n",
       " 'weights_init': None}"
      ]
     },
     "execution_count": 15,
     "metadata": {},
     "output_type": "execute_result"
    }
   ],
   "source": [
    "from statistics import mode\n",
    "gmm = GaussianMixture(n_components=4)\n",
    "gmmY = gmm.fit_predict(scaled_x)\n",
    "\n",
    "gmm.get_params()"
   ]
  },
  {
   "cell_type": "code",
   "execution_count": 16,
   "metadata": {},
   "outputs": [
    {
     "name": "stdout",
     "output_type": "stream",
     "text": [
      "[[ 0.75708006  0.54926776  0.76756218 -0.30307669  0.74562878  0.7664052\n",
      "   0.69995175  0.6110412   0.8247868   0.77159383 -0.32425921  0.73682126\n",
      "  -0.2943456  -0.31953929  0.81531499  0.86683867  0.59536183  0.75199599\n",
      "  -0.34230704  0.27044054  0.93337013  0.70687591  0.52429423 -0.31991554\n",
      "   0.4683742   0.90401418 -0.3094476   0.8736899  -0.2716536   0.88659822\n",
      "   0.45704728  0.43715286  0.82142042  0.24603634  0.5297781   0.81891366\n",
      "  -0.30221838  0.5113385   0.83573755  0.55285774 -0.34313289  0.84079086\n",
      "   0.32780641 -0.31885631  0.36517729  0.43261605  0.39649176]\n",
      " [ 0.09801183 -0.52751362  0.90271851  3.68592108 -0.1263093  -1.24752089\n",
      "  -0.15739474 -0.72701727  0.87880568 -0.74522047  3.2011456  -0.76289861\n",
      "   3.66988598  3.04231209  0.22795166  0.55282302 -1.22530313 -1.29253882\n",
      "   3.1741287   0.30835861 -0.63875866  0.00651166 -1.26846983  3.43783389\n",
      "   0.79927865  0.67131883  2.86297948  1.11643046  2.8146064   0.84047747\n",
      "  -1.37527028  0.41408405 -1.02239522  0.23436281 -0.30525959  1.01703369\n",
      "   3.60109213  1.07988176 -1.2154325  -0.68622455  3.00994682  0.88852016\n",
      "   1.3465448   3.17279145 -0.44653877  0.78135693 -0.49377811]\n",
      " [-1.10758522 -1.2372306   0.47036828  1.63194567 -0.20763909 -1.3121453\n",
      "  -1.88924847 -1.64156738 -1.1985621  -0.84867729  2.1130666  -0.88533432\n",
      "   1.53240841  2.13404149 -1.50652645 -1.76153335 -1.25252291 -1.38430876\n",
      "   2.33725993 -0.15381325 -0.84680525 -0.75445838 -1.35028436  1.87160461\n",
      "  -0.61567626 -0.95833382  2.24966868 -0.82259516  1.67970689 -1.0109504\n",
      "  -1.42769784 -0.3360758  -1.45661485  0.26792323 -2.25500435 -0.12051548\n",
      "   1.59006277 -0.35674128 -1.18593213 -1.77554129  2.40102389 -0.85857507\n",
      "   0.30021985  2.18583164 -0.39825019 -0.579413   -1.07612192]\n",
      " [-0.48823135 -0.23734577 -0.80120141 -0.30877337 -0.59163381 -0.3472225\n",
      "  -0.3017111  -0.21250194 -0.60120402 -0.46440344 -0.31906774 -0.42788849\n",
      "  -0.3000743  -0.31216156 -0.49024536 -0.52501602 -0.2126797  -0.32035062\n",
      "  -0.3344651  -0.23424027 -0.6115097  -0.4896646  -0.13405635 -0.30797691\n",
      "  -0.37749083 -0.68568662 -0.32199052 -0.71924596 -0.26564644 -0.67804442\n",
      "  -0.0560698  -0.3582781  -0.39248522 -0.26926991 -0.0900719  -0.76763893\n",
      "  -0.29583188 -0.47699376 -0.42759657 -0.14688346 -0.32869562 -0.66587373\n",
      "  -0.44163626 -0.33190352 -0.21201491 -0.35088748 -0.13432779]]\n"
     ]
    }
   ],
   "source": [
    "centers = gmm.means_\n",
    "print(centers)"
   ]
  }
 ],
 "metadata": {
  "kernelspec": {
   "display_name": "Python 3.10.4 64-bit",
   "language": "python",
   "name": "python3"
  },
  "language_info": {
   "codemirror_mode": {
    "name": "ipython",
    "version": 3
   },
   "file_extension": ".py",
   "mimetype": "text/x-python",
   "name": "python",
   "nbconvert_exporter": "python",
   "pygments_lexer": "ipython3",
   "version": "3.10.4"
  },
  "orig_nbformat": 4,
  "vscode": {
   "interpreter": {
    "hash": "6f7cc386b79c5bde0785c91a9ba44b7d64c414e003dca198151e04825ebc78ab"
   }
  }
 },
 "nbformat": 4,
 "nbformat_minor": 2
}
